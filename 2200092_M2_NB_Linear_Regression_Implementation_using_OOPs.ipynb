{
  "nbformat": 4,
  "nbformat_minor": 5,
  "metadata": {
    "kernelspec": {
      "display_name": "Python 3",
      "language": "python",
      "name": "python3"
    },
    "language_info": {
      "codemirror_mode": {
        "name": "ipython",
        "version": 3
      },
      "file_extension": ".py",
      "mimetype": "text/x-python",
      "name": "python",
      "nbconvert_exporter": "python",
      "pygments_lexer": "ipython3",
      "version": "3.5.2"
    },
    "colab": {
      "name": "2200092 -  M2-NB_Linear Regression Implementation using OOPs.ipynb",
      "provenance": [],
      "collapsed_sections": [],
      "include_colab_link": true
    }
  },
  "cells": [
    {
      "cell_type": "markdown",
      "metadata": {
        "id": "view-in-github",
        "colab_type": "text"
      },
      "source": [
        "<a href=\"https://colab.research.google.com/github/pallavibekal/IISC-Linear-Algebra/blob/main/2200092_M2_NB_Linear_Regression_Implementation_using_OOPs.ipynb\" target=\"_parent\"><img src=\"https://colab.research.google.com/assets/colab-badge.svg\" alt=\"Open In Colab\"/></a>"
      ]
    },
    {
      "cell_type": "markdown",
      "metadata": {
        "id": "hawaiian-astronomy"
      },
      "source": [
        "# Advanced Certification Program in Computational Data Science\n",
        "## A program by IISc and TalentSprint\n",
        "### Mini-Project: Implementation of Linear Regression using OOPs"
      ],
      "id": "hawaiian-astronomy"
    },
    {
      "cell_type": "markdown",
      "metadata": {
        "id": "latin-seventh"
      },
      "source": [
        "## Learning Objectives"
      ],
      "id": "latin-seventh"
    },
    {
      "cell_type": "markdown",
      "metadata": {
        "id": "civil-joyce"
      },
      "source": [
        "At the end of the mini-project, you will be able to :\n",
        "\n",
        "- understand the power and flexibility of the Object-oriented programming (OOP) paradigm\n",
        "- build OOP based classes and methods and use them to implement Linear Regression for solving real world data related queries\n"
      ],
      "id": "civil-joyce"
    },
    {
      "cell_type": "markdown",
      "metadata": {
        "id": "Ja9JFtSUU1gl"
      },
      "source": [
        "## Problem Statement"
      ],
      "id": "Ja9JFtSUU1gl"
    },
    {
      "cell_type": "markdown",
      "metadata": {
        "id": "CDs5z_5ZU4H6"
      },
      "source": [
        "Implement linear regression using classes and methods built with OOP."
      ],
      "id": "CDs5z_5ZU4H6"
    },
    {
      "cell_type": "markdown",
      "metadata": {
        "id": "genetic-discount"
      },
      "source": [
        "## Information"
      ],
      "id": "genetic-discount"
    },
    {
      "cell_type": "markdown",
      "metadata": {
        "id": "pharmaceutical-stopping"
      },
      "source": [
        "#### Object oriented programming in a nutshell\n",
        "\n",
        "Object oriented programming is based around the concept of \"objects\". Objects have two kinds of attributes (accessed via . syntax): data attributes (or instance variables) and function attributes (or methods). Object data is typically modified by object methods.\n",
        "\n",
        "To know more about OOPs click [here](https://docs.python.org/3/tutorial/classes.html)\n",
        "\n",
        "#### Linear Regression\n",
        "\n",
        "In statistics, linear regression is a linear approach to model the relationship between a scalar response and one or more explanatory variables (also known as dependent and independent variables). The case of one explanatory variable is called simple linear regression; for more than one, the process is called multiple linear regression.\n",
        "\n",
        "To know more about Linear regression  click [here](http://www.mit.edu/~6.s085/notes/lecture3.pdf)\n"
      ],
      "id": "pharmaceutical-stopping"
    },
    {
      "cell_type": "markdown",
      "metadata": {
        "id": "ndQNKsjS7c04"
      },
      "source": [
        "## Grading = 10 Points"
      ],
      "id": "ndQNKsjS7c04"
    },
    {
      "cell_type": "markdown",
      "metadata": {
        "id": "IPn9hBEEEOnq"
      },
      "source": [
        "#### There are total 10 exercises and 1 point for each."
      ],
      "id": "IPn9hBEEEOnq"
    },
    {
      "cell_type": "markdown",
      "metadata": {
        "id": "powerful-preservation"
      },
      "source": [
        "##### Importing Necessary Packages"
      ],
      "id": "powerful-preservation"
    },
    {
      "cell_type": "code",
      "metadata": {
        "id": "confident-garlic"
      },
      "source": [
        "import numpy as np # Numpy Package\n",
        "import pandas as pd # Pandas Package\n",
        "import matplotlib.pyplot as plt\n",
        "import random\n"
      ],
      "id": "confident-garlic",
      "execution_count": 19,
      "outputs": []
    },
    {
      "cell_type": "markdown",
      "metadata": {
        "id": "eleven-excess"
      },
      "source": [
        "#### Exercise 1: Generate 50 points with an approximate relationship of y = 3x + 1, with normally distributed errors.\n",
        "\n",
        "**Hint:** np.linspace(), np.random.randn()"
      ],
      "id": "eleven-excess"
    },
    {
      "cell_type": "code",
      "metadata": {
        "id": "serial-southeast",
        "colab": {
          "base_uri": "https://localhost:8080/"
        },
        "outputId": "570cdb41-9c77-46ac-8221-f71e1d47492a"
      },
      "source": [
        "random.seed(1)\n",
        "# Create our input and output data\n",
        "# Get x for a sample size of 50\n",
        "#x = np.random.randn(50,1)\n",
        "x = np.linspace(0,50,num=50,endpoint=True)\n",
        "\n",
        "# Get our Error data - normal distribution \n",
        "e = np.random.normal(0,1, size=(50,1))\n",
        "\n",
        "# Our y will then be\n",
        "#y = 3*x + 1 + e\n",
        "y = 3*x + 1\n",
        "print(y.shape)"
      ],
      "id": "serial-southeast",
      "execution_count": 64,
      "outputs": [
        {
          "output_type": "stream",
          "text": [
            "(50,)\n"
          ],
          "name": "stdout"
        }
      ]
    },
    {
      "cell_type": "code",
      "metadata": {
        "colab": {
          "base_uri": "https://localhost:8080/"
        },
        "id": "8c2F8GxLQH-t",
        "outputId": "faf90c87-ea3d-499b-c634-6490c7657335"
      },
      "source": [
        "e"
      ],
      "id": "8c2F8GxLQH-t",
      "execution_count": 65,
      "outputs": [
        {
          "output_type": "execute_result",
          "data": {
            "text/plain": [
              "array([[-1.09889841],\n",
              "       [ 0.81909026],\n",
              "       [ 1.52169319],\n",
              "       [ 0.38047776],\n",
              "       [ 0.3337979 ],\n",
              "       [ 0.32654493],\n",
              "       [ 0.81150834],\n",
              "       [-0.65277012],\n",
              "       [ 1.16974712],\n",
              "       [ 2.03027363],\n",
              "       [ 1.30286271],\n",
              "       [ 1.01735833],\n",
              "       [ 1.16584802],\n",
              "       [-1.08373716],\n",
              "       [ 1.50451295],\n",
              "       [-0.19220006],\n",
              "       [ 0.48278188],\n",
              "       [ 0.42074338],\n",
              "       [ 0.50261237],\n",
              "       [ 1.09363363],\n",
              "       [-2.64701968],\n",
              "       [ 1.07428075],\n",
              "       [-1.3372202 ],\n",
              "       [ 0.21846857],\n",
              "       [ 0.07000929],\n",
              "       [ 3.98957967],\n",
              "       [-0.56818589],\n",
              "       [-1.31184158],\n",
              "       [-0.63402794],\n",
              "       [-0.04913604],\n",
              "       [-0.75863587],\n",
              "       [-0.7869509 ],\n",
              "       [ 0.53349154],\n",
              "       [ 0.26645664],\n",
              "       [-0.4189369 ],\n",
              "       [ 0.87598745],\n",
              "       [-0.82705222],\n",
              "       [-1.29718239],\n",
              "       [ 0.68180301],\n",
              "       [-0.28043676],\n",
              "       [-0.98873193],\n",
              "       [ 0.88223541],\n",
              "       [ 0.38417781],\n",
              "       [-0.56817742],\n",
              "       [ 0.69968907],\n",
              "       [ 0.74439937],\n",
              "       [-1.30451643],\n",
              "       [ 0.19125856],\n",
              "       [-0.75117841],\n",
              "       [ 1.29843097]])"
            ]
          },
          "metadata": {
            "tags": []
          },
          "execution_count": 65
        }
      ]
    },
    {
      "cell_type": "code",
      "metadata": {
        "colab": {
          "base_uri": "https://localhost:8080/",
          "height": 296
        },
        "id": "EJbh1EZN_Rmw",
        "outputId": "2067bfb6-4b4a-4267-9406-558f373e83a8"
      },
      "source": [
        "# Let us see the x-y plot \n",
        "\n",
        "plt.plot(x,y,'+',c='hotpink')\n",
        "font1 = {'family':'serif','color':'blue','size':15}\n",
        "plt.title('x-y plot', fontdict=font1, loc='left')\n",
        "plt.xlabel('x - Values')\n",
        "plt.ylabel('Y - Values')\n",
        "plt.grid()\n",
        "plt.show()"
      ],
      "id": "EJbh1EZN_Rmw",
      "execution_count": 66,
      "outputs": [
        {
          "output_type": "display_data",
          "data": {
            "image/png": "[encoded data removed]",
            "text/plain": [
              "<Figure size 432x288 with 1 Axes>"
            ]
          },
          "metadata": {
            "tags": [],
            "needs_background": "light"
          }
        }
      ]
    },
    {
      "cell_type": "code",
      "metadata": {
        "colab": {
          "base_uri": "https://localhost:8080/",
          "height": 265
        },
        "id": "MA3lg7-8B1hN",
        "outputId": "af2eae9d-459d-430a-9e97-3b63581382c9"
      },
      "source": [
        "# Let's plot our errors\n",
        "plt.title\n",
        "plt.hist(e,bins=500)\n",
        "plt.show()"
      ],
      "id": "MA3lg7-8B1hN",
      "execution_count": 67,
      "outputs": [
        {
          "output_type": "display_data",
          "data": {
            "image/png": "[encoded data removed]",
            "text/plain": [
              "<Figure size 432x288 with 1 Axes>"
            ]
          },
          "metadata": {
            "tags": [],
            "needs_background": "light"
          }
        }
      ]
    },
    {
      "cell_type": "markdown",
      "metadata": {
        "id": "robust-moderator"
      },
      "source": [
        "#### Exercise 2: Define a class named **LinearRegression** and add a short description of linear regression using built in method \\_\\_repr\\_\\_\n",
        "\n",
        "**Hint:** [How to use \\_\\_repr\\_\\_ method](https://www.educative.io/edpresso/what-is-the-repr-method-in-python)"
      ],
      "id": "robust-moderator"
    },
    {
      "cell_type": "code",
      "metadata": {
        "id": "brief-criminal"
      },
      "source": [
        "# YOUR CODE HERE\n",
        "class LinearRegressionr:\n",
        "  def __init__(self):\n",
        "    self.coeffs = []\n",
        "\n",
        "  def mean(self,list_val):\n",
        "    return np.sum(list_val)/list_val.shape[0]\n",
        "\n",
        "  def variance(self,list_val):\n",
        "    avg = self.mean(list_val)\n",
        "    return np.sum((list_val - avg)**2) / (list_val.shape[0] -1)\n",
        "  \n",
        "  def covariance(self,x,y): #co-variance between 2 variables\n",
        "    avg_x = self.mean(x)\n",
        "    avg_y = self.mean(y)\n",
        "    return np.sum((x-avg_x)*(y-avg_y)) / (x.shape[0] - 1)\n",
        "\n",
        "  def fit(self,x,y):\n",
        "    b1 = self.covariance(x,y) / self.variance(x)\n",
        "    b0 = self.mean(y) - (b1 * self.mean(x))\n",
        "    self.coeffs.append(b0)\n",
        "    self.coeffs.append(b1)\n",
        "    return b0,b1\n",
        "\n",
        "  def predict(self,x):\n",
        "    y_pred = self.coeffs[1]*x + self.coeffs[0]\n",
        "    return y_pred\n",
        "\n",
        "  def rmse(self,x,y):\n",
        "    rmse_error = ((np.sum((y - self.predict(x))**2)) /x.shape[0])**0.5 \n",
        "    return rmse_error\n",
        "\n"
      ],
      "id": "brief-criminal",
      "execution_count": 123,
      "outputs": []
    },
    {
      "cell_type": "markdown",
      "metadata": {
        "id": "electoral-melissa"
      },
      "source": [
        "#### Exercise 3: In the above defined Linear Regression class, add a method which takes list of values as input and returns the mean of those values. \n",
        "\n",
        "**Note:** Don't use built-in method to calculate the mean\n",
        "\n",
        "**Hint:** \n",
        "1. The mean is the average of the numbers\n",
        "2. [How to define a method in a class](https://docs.python.org/3/tutorial/classes.html#scopes-and-namespaces-example)"
      ],
      "id": "electoral-melissa"
    },
    {
      "cell_type": "code",
      "metadata": {
        "id": "rolled-agent",
        "colab": {
          "base_uri": "https://localhost:8080/"
        },
        "outputId": "0c19250f-1b84-4814-d3b1-89f905d0f368"
      },
      "source": [
        "# YOUR CODE HERE\n",
        "L1 = LinearRegressionr()\n",
        "L1.mean(x)"
      ],
      "id": "rolled-agent",
      "execution_count": 124,
      "outputs": [
        {
          "output_type": "execute_result",
          "data": {
            "text/plain": [
              "25.0"
            ]
          },
          "metadata": {
            "tags": []
          },
          "execution_count": 124
        }
      ]
    },
    {
      "cell_type": "code",
      "metadata": {
        "colab": {
          "base_uri": "https://localhost:8080/"
        },
        "id": "1cQ5V74buu2X",
        "outputId": "f4a7376a-3bcd-43b8-e3c8-0b684b9528e2"
      },
      "source": [
        "x.shape[0]"
      ],
      "id": "1cQ5V74buu2X",
      "execution_count": 125,
      "outputs": [
        {
          "output_type": "execute_result",
          "data": {
            "text/plain": [
              "50"
            ]
          },
          "metadata": {
            "tags": []
          },
          "execution_count": 125
        }
      ]
    },
    {
      "cell_type": "markdown",
      "metadata": {
        "id": "christian-visit"
      },
      "source": [
        "#### Exercise 4: In the above defined Linear Regression class, add a method which takes list of values as input and returns the variance of those values.\n",
        "\n",
        "**Note:** Don't use built-in method to calculate the variance\n",
        "\n",
        "**Hint:** \n",
        "\n",
        "1. The Variance is the average of the squared differences of each datapoint from the Mean\n",
        "2. [How to access one method in different method inside a class](https://docs.python.org/3/tutorial/classes.html#scopes-and-namespaces-example)\n"
      ],
      "id": "christian-visit"
    },
    {
      "cell_type": "code",
      "metadata": {
        "id": "controversial-legislature",
        "colab": {
          "base_uri": "https://localhost:8080/"
        },
        "outputId": "4aa1bac5-1114-4af2-ee23-43afec6a889b"
      },
      "source": [
        "# YOUR CODE HERE\n",
        "print(L1.variance(x))\n",
        "print(np.var(x))\n"
      ],
      "id": "controversial-legislature",
      "execution_count": 126,
      "outputs": [
        {
          "output_type": "stream",
          "text": [
            "221.2619741774261\n",
            "216.8367346938776\n"
          ],
          "name": "stdout"
        }
      ]
    },
    {
      "cell_type": "markdown",
      "metadata": {
        "id": "acquired-giant"
      },
      "source": [
        "#### Exercise 5: In the above defined Linear Regression class, add a method which takes two values as input and returns the covariance of those values.\n",
        "\n",
        "**Note:** Don't use built-in method to calculate the covariance\n",
        "\n",
        "**Hint:** [How to calculate the covariance of two values](https://www.statisticshowto.com/probability-and-statistics/statistics-definitions/covariance/)"
      ],
      "id": "acquired-giant"
    },
    {
      "cell_type": "code",
      "metadata": {
        "id": "later-hanging",
        "colab": {
          "base_uri": "https://localhost:8080/"
        },
        "outputId": "7bee0c94-808a-4aa2-cdc9-ce04362422a4"
      },
      "source": [
        "# YOUR CODE HERE\n",
        "L1.covariance(x,y)"
      ],
      "id": "later-hanging",
      "execution_count": 127,
      "outputs": [
        {
          "output_type": "execute_result",
          "data": {
            "text/plain": [
              "663.7859225322783"
            ]
          },
          "metadata": {
            "tags": []
          },
          "execution_count": 127
        }
      ]
    },
    {
      "cell_type": "markdown",
      "metadata": {
        "id": "relative-plaza"
      },
      "source": [
        "#### Exercise 6: In the above defined Linear Regression class, add a method named 'fit' which takes two values as input (x, y) and returns the estimated coefficients.\n",
        "\n",
        "**Hint:**\n",
        "\n",
        "- Equation of line : $  y = b_{0} + b_{1} * x $\n",
        "- The estimated coefficients i.e. values of $b_{0}$ and $b_{1}$ are calculated as below\n",
        "    - $ b_{1} = covariance(x,y) / variance(x) $ and\n",
        "    - $ b_{0} = mean(y) - b_{1} * mean(x)$"
      ],
      "id": "relative-plaza"
    },
    {
      "cell_type": "code",
      "metadata": {
        "id": "political-priest",
        "colab": {
          "base_uri": "https://localhost:8080/"
        },
        "outputId": "17cc8873-4b4f-43d2-eb93-b6f9abc2f08a"
      },
      "source": [
        "# YOUR CODE HERE\n",
        "b0, b1 = L1.fit(x,y)\n",
        "print(b0,b1)"
      ],
      "id": "political-priest",
      "execution_count": 128,
      "outputs": [
        {
          "output_type": "stream",
          "text": [
            "1.0000000000000142 2.9999999999999996\n"
          ],
          "name": "stdout"
        }
      ]
    },
    {
      "cell_type": "markdown",
      "metadata": {
        "id": "proud-choir"
      },
      "source": [
        "#### Exercise 7: In the above defined Linear Regression class, add a method named predict which takes two values as input (x, y) and returns the predicted values.\n",
        "\n",
        "**Hint:** substitute the estimated coefficients values calculated above in the equation of line i.e $  y = b_{0} + b_{1} * x $"
      ],
      "id": "proud-choir"
    },
    {
      "cell_type": "code",
      "metadata": {
        "id": "interesting-presentation"
      },
      "source": [
        "# YOUR CODE HERE\n",
        "l1_pred = L1.predict(2)"
      ],
      "id": "interesting-presentation",
      "execution_count": 129,
      "outputs": []
    },
    {
      "cell_type": "code",
      "metadata": {
        "colab": {
          "base_uri": "https://localhost:8080/",
          "height": 572
        },
        "id": "Ti_Qf0u4FNMI",
        "outputId": "700391ce-e47a-48fe-a97e-f0e337ae161a"
      },
      "source": [
        "fig = plt.figure(figsize=(15,9))\n",
        "\n",
        "plt.plot(x,y,'+',c='hotpink')\n",
        "plt.plot(x, b0 + b1*x, 'g')\n",
        "plt.plot(2, l1_pred,'o')\n",
        "font1 = {'family':'serif','color':'blue','size':20}\n",
        "plt.title('x-y plot', fontdict=font1, loc='center',)\n",
        "plt.xlabel('x - Values')\n",
        "plt.ylabel('Y - Values')\n",
        "plt.grid(color='g',linestyle='--',linewidth=0.5)\n",
        "plt.show()"
      ],
      "id": "Ti_Qf0u4FNMI",
      "execution_count": 130,
      "outputs": [
        {
          "output_type": "display_data",
          "data": {
            "image/png": "[encoded data removed]",
            "text/plain": [
              "<Figure size 1080x648 with 1 Axes>"
            ]
          },
          "metadata": {
            "tags": [],
            "needs_background": "light"
          }
        }
      ]
    },
    {
      "cell_type": "markdown",
      "metadata": {
        "id": "european-spell"
      },
      "source": [
        "#### Data\n",
        "\n",
        "The dataset chosen for this experiment is **Pizza Franchise** dataset. The dataset contains the following data\n",
        "\n",
        "X = annual franchise fee ($1000)\n",
        "\n",
        "Y = start up cost ($1000) for a pizza franchise\n",
        "\n",
        "Download the dataset [here](https://cdn.iisc.talentsprint.com/CDS/Datasets/pizza.csv)"
      ],
      "id": "european-spell"
    },
    {
      "cell_type": "markdown",
      "metadata": {
        "id": "funky-schedule"
      },
      "source": [
        "#### Exercise 8: Using the above defined class LinearRegression, calculate the Estimated coefficients, fit the model, and predict the values on the Pizza Franchise dataset."
      ],
      "id": "funky-schedule"
    },
    {
      "cell_type": "code",
      "metadata": {
        "id": "comic-removal",
        "colab": {
          "base_uri": "https://localhost:8080/",
          "height": 204
        },
        "outputId": "80f97e85-ccd0-4f8a-9dbf-86f6d5b7815f"
      },
      "source": [
        "# YOUR CODE HERE\n",
        "df_data = pd.read_csv('pizza.csv')\n",
        "df_data.head()"
      ],
      "id": "comic-removal",
      "execution_count": 131,
      "outputs": [
        {
          "output_type": "execute_result",
          "data": {
            "text/html": [
              "<div>\n",
              "<style scoped>\n",
              "    .dataframe tbody tr th:only-of-type {\n",
              "        vertical-align: middle;\n",
              "    }\n",
              "\n",
              "    .dataframe tbody tr th {\n",
              "        vertical-align: top;\n",
              "    }\n",
              "\n",
              "    .dataframe thead th {\n",
              "        text-align: right;\n",
              "    }\n",
              "</style>\n",
              "<table border=\"1\" class=\"dataframe\">\n",
              "  <thead>\n",
              "    <tr style=\"text-align: right;\">\n",
              "      <th></th>\n",
              "      <th>X</th>\n",
              "      <th>Y</th>\n",
              "    </tr>\n",
              "  </thead>\n",
              "  <tbody>\n",
              "    <tr>\n",
              "      <th>0</th>\n",
              "      <td>1000</td>\n",
              "      <td>1050</td>\n",
              "    </tr>\n",
              "    <tr>\n",
              "      <th>1</th>\n",
              "      <td>1125</td>\n",
              "      <td>1150</td>\n",
              "    </tr>\n",
              "    <tr>\n",
              "      <th>2</th>\n",
              "      <td>1087</td>\n",
              "      <td>1213</td>\n",
              "    </tr>\n",
              "    <tr>\n",
              "      <th>3</th>\n",
              "      <td>1070</td>\n",
              "      <td>1275</td>\n",
              "    </tr>\n",
              "    <tr>\n",
              "      <th>4</th>\n",
              "      <td>1100</td>\n",
              "      <td>1300</td>\n",
              "    </tr>\n",
              "  </tbody>\n",
              "</table>\n",
              "</div>"
            ],
            "text/plain": [
              "      X     Y\n",
              "0  1000  1050\n",
              "1  1125  1150\n",
              "2  1087  1213\n",
              "3  1070  1275\n",
              "4  1100  1300"
            ]
          },
          "metadata": {
            "tags": []
          },
          "execution_count": 131
        }
      ]
    },
    {
      "cell_type": "code",
      "metadata": {
        "colab": {
          "base_uri": "https://localhost:8080/",
          "height": 297
        },
        "id": "lTeglipnHKip",
        "outputId": "f75f40a9-fc3d-49bd-eeef-07bb15f02eda"
      },
      "source": [
        "df_data.describe()"
      ],
      "id": "lTeglipnHKip",
      "execution_count": 132,
      "outputs": [
        {
          "output_type": "execute_result",
          "data": {
            "text/html": [
              "<div>\n",
              "<style scoped>\n",
              "    .dataframe tbody tr th:only-of-type {\n",
              "        vertical-align: middle;\n",
              "    }\n",
              "\n",
              "    .dataframe tbody tr th {\n",
              "        vertical-align: top;\n",
              "    }\n",
              "\n",
              "    .dataframe thead th {\n",
              "        text-align: right;\n",
              "    }\n",
              "</style>\n",
              "<table border=\"1\" class=\"dataframe\">\n",
              "  <thead>\n",
              "    <tr style=\"text-align: right;\">\n",
              "      <th></th>\n",
              "      <th>X</th>\n",
              "      <th>Y</th>\n",
              "    </tr>\n",
              "  </thead>\n",
              "  <tbody>\n",
              "    <tr>\n",
              "      <th>count</th>\n",
              "      <td>36.000000</td>\n",
              "      <td>36.000000</td>\n",
              "    </tr>\n",
              "    <tr>\n",
              "      <th>mean</th>\n",
              "      <td>1134.777778</td>\n",
              "      <td>1291.055556</td>\n",
              "    </tr>\n",
              "    <tr>\n",
              "      <th>std</th>\n",
              "      <td>158.583211</td>\n",
              "      <td>124.058038</td>\n",
              "    </tr>\n",
              "    <tr>\n",
              "      <th>min</th>\n",
              "      <td>700.000000</td>\n",
              "      <td>1050.000000</td>\n",
              "    </tr>\n",
              "    <tr>\n",
              "      <th>25%</th>\n",
              "      <td>1080.000000</td>\n",
              "      <td>1250.000000</td>\n",
              "    </tr>\n",
              "    <tr>\n",
              "      <th>50%</th>\n",
              "      <td>1162.500000</td>\n",
              "      <td>1277.500000</td>\n",
              "    </tr>\n",
              "    <tr>\n",
              "      <th>75%</th>\n",
              "      <td>1250.000000</td>\n",
              "      <td>1300.000000</td>\n",
              "    </tr>\n",
              "    <tr>\n",
              "      <th>max</th>\n",
              "      <td>1375.000000</td>\n",
              "      <td>1830.000000</td>\n",
              "    </tr>\n",
              "  </tbody>\n",
              "</table>\n",
              "</div>"
            ],
            "text/plain": [
              "                 X            Y\n",
              "count    36.000000    36.000000\n",
              "mean   1134.777778  1291.055556\n",
              "std     158.583211   124.058038\n",
              "min     700.000000  1050.000000\n",
              "25%    1080.000000  1250.000000\n",
              "50%    1162.500000  1277.500000\n",
              "75%    1250.000000  1300.000000\n",
              "max    1375.000000  1830.000000"
            ]
          },
          "metadata": {
            "tags": []
          },
          "execution_count": 132
        }
      ]
    },
    {
      "cell_type": "code",
      "metadata": {
        "id": "oMkwUJz43jj6"
      },
      "source": [
        "X = df_data.X\n",
        "Y = df_data.Y\n"
      ],
      "id": "oMkwUJz43jj6",
      "execution_count": 133,
      "outputs": []
    },
    {
      "cell_type": "code",
      "metadata": {
        "colab": {
          "base_uri": "https://localhost:8080/",
          "height": 265
        },
        "id": "KCetoQQPG3Ox",
        "outputId": "c3851dac-5beb-4c00-8c93-d0640605ad11"
      },
      "source": [
        "plt.scatter(X,Y)\n",
        "plt.show()"
      ],
      "id": "KCetoQQPG3Ox",
      "execution_count": 134,
      "outputs": [
        {
          "output_type": "display_data",
          "data": {
            "image/png": "[encoded data removed]",
            "text/plain": [
              "<Figure size 432x288 with 1 Axes>"
            ]
          },
          "metadata": {
            "tags": [],
            "needs_background": "light"
          }
        }
      ]
    },
    {
      "cell_type": "code",
      "metadata": {
        "id": "wMBrYVa43r8H"
      },
      "source": [
        "L2 = LinearRegressionr()"
      ],
      "id": "wMBrYVa43r8H",
      "execution_count": 135,
      "outputs": []
    },
    {
      "cell_type": "code",
      "metadata": {
        "colab": {
          "base_uri": "https://localhost:8080/"
        },
        "id": "Vp2vz5Z13wmK",
        "outputId": "88edb983-b53f-4776-83a1-3bd392a740c6"
      },
      "source": [
        "B0, B1 = L2.fit(X,Y)\n",
        "print(B0, B1)"
      ],
      "id": "Vp2vz5Z13wmK",
      "execution_count": 136,
      "outputs": [
        {
          "output_type": "stream",
          "text": [
            "867.604222262056 0.37315793592886476\n"
          ],
          "name": "stdout"
        }
      ]
    },
    {
      "cell_type": "code",
      "metadata": {
        "colab": {
          "base_uri": "https://localhost:8080/"
        },
        "id": "VPLWcb8p307k",
        "outputId": "62487142-902b-4a1e-b8e7-6ef0b069d961"
      },
      "source": [
        "print('Predicted Value -',L2.predict(1125))\n",
        "print('From the data')\n",
        "print(df_data[df_data.X == 1125])"
      ],
      "id": "VPLWcb8p307k",
      "execution_count": 137,
      "outputs": [
        {
          "output_type": "stream",
          "text": [
            "Predicted Value - 1287.406900182029\n",
            "From the data\n",
            "       X     Y\n",
            "1   1125  1150\n",
            "31  1125  1175\n"
          ],
          "name": "stdout"
        }
      ]
    },
    {
      "cell_type": "markdown",
      "metadata": {
        "id": "industrial-deposit"
      },
      "source": [
        "#### Exercise 9: In the above defined Linear Regression class, add a method named RMSE which takes two values as input (x, y) and returns the error value.\n",
        "\n",
        "**Hint:**\n",
        "\n",
        "- [How to calculate RMSE value](https://towardsdatascience.com/what-does-rmse-really-mean-806b65f2e48e)"
      ],
      "id": "industrial-deposit"
    },
    {
      "cell_type": "code",
      "metadata": {
        "id": "pXT-Q8dic1Yt"
      },
      "source": [
        ""
      ],
      "id": "pXT-Q8dic1Yt",
      "execution_count": 137,
      "outputs": []
    },
    {
      "cell_type": "code",
      "metadata": {
        "colab": {
          "base_uri": "https://localhost:8080/"
        },
        "id": "kSxbonMJ3v6M",
        "outputId": "5cfb16b8-39aa-493a-8217-cbdc51c023b2"
      },
      "source": [
        "L2.rmse(X,Y)"
      ],
      "id": "kSxbonMJ3v6M",
      "execution_count": 144,
      "outputs": [
        {
          "output_type": "execute_result",
          "data": {
            "text/plain": [
              "107.50949652541529"
            ]
          },
          "metadata": {
            "tags": []
          },
          "execution_count": 144
        }
      ]
    },
    {
      "cell_type": "markdown",
      "metadata": {
        "id": "three-escape"
      },
      "source": [
        "#### Data\n",
        "\n",
        "The dataset chosen for this exercise is **List Price Vs. Best Price for a New GMC Pickup** dataset. The dataset contains the following data\n",
        "\n",
        "X = List price (in $1000) for a GMC pickup truck\n",
        "\n",
        "Y = Best price (in $1000) for a GMC pickup truck\n",
        "\n",
        "Download the dataset [here](https://cdn.iisc.talentsprint.com/CDS/Datasets/gmc.csv)"
      ],
      "id": "three-escape"
    },
    {
      "cell_type": "markdown",
      "metadata": {
        "id": "eight-israeli"
      },
      "source": [
        "#### Exercise 10: Using above defined class LinearRegression, \n",
        "\n",
        "- calculate the Estimated coefficients, fit the model, and predict the values on the List Price Vs. Best Price for a New GMC Pickup dataset.\n",
        "- calculate the RMSE error on predicted and actual values of List Price Vs. Best Price for a New GMC Pickup dataset using the function defined above."
      ],
      "id": "eight-israeli"
    },
    {
      "cell_type": "code",
      "metadata": {
        "id": "expected-fantasy",
        "colab": {
          "base_uri": "https://localhost:8080/",
          "height": 204
        },
        "outputId": "85fd4726-8a6e-4bbc-cd76-64165579454d"
      },
      "source": [
        "# YOUR CODE HERE\n",
        "df_data_2 = pd.read_csv('gmc.csv')\n",
        "df_data_2.head()"
      ],
      "id": "expected-fantasy",
      "execution_count": 139,
      "outputs": [
        {
          "output_type": "execute_result",
          "data": {
            "text/html": [
              "<div>\n",
              "<style scoped>\n",
              "    .dataframe tbody tr th:only-of-type {\n",
              "        vertical-align: middle;\n",
              "    }\n",
              "\n",
              "    .dataframe tbody tr th {\n",
              "        vertical-align: top;\n",
              "    }\n",
              "\n",
              "    .dataframe thead th {\n",
              "        text-align: right;\n",
              "    }\n",
              "</style>\n",
              "<table border=\"1\" class=\"dataframe\">\n",
              "  <thead>\n",
              "    <tr style=\"text-align: right;\">\n",
              "      <th></th>\n",
              "      <th>X</th>\n",
              "      <th>Y</th>\n",
              "    </tr>\n",
              "  </thead>\n",
              "  <tbody>\n",
              "    <tr>\n",
              "      <th>0</th>\n",
              "      <td>12.4</td>\n",
              "      <td>11.2</td>\n",
              "    </tr>\n",
              "    <tr>\n",
              "      <th>1</th>\n",
              "      <td>14.3</td>\n",
              "      <td>12.5</td>\n",
              "    </tr>\n",
              "    <tr>\n",
              "      <th>2</th>\n",
              "      <td>14.5</td>\n",
              "      <td>12.7</td>\n",
              "    </tr>\n",
              "    <tr>\n",
              "      <th>3</th>\n",
              "      <td>14.9</td>\n",
              "      <td>13.1</td>\n",
              "    </tr>\n",
              "    <tr>\n",
              "      <th>4</th>\n",
              "      <td>16.1</td>\n",
              "      <td>14.1</td>\n",
              "    </tr>\n",
              "  </tbody>\n",
              "</table>\n",
              "</div>"
            ],
            "text/plain": [
              "      X     Y\n",
              "0  12.4  11.2\n",
              "1  14.3  12.5\n",
              "2  14.5  12.7\n",
              "3  14.9  13.1\n",
              "4  16.1  14.1"
            ]
          },
          "metadata": {
            "tags": []
          },
          "execution_count": 139
        }
      ]
    },
    {
      "cell_type": "code",
      "metadata": {
        "colab": {
          "base_uri": "https://localhost:8080/"
        },
        "id": "amo443L_LwFk",
        "outputId": "ec236234-41a0-46b8-e61d-d8527949f7c2"
      },
      "source": [
        "df_data_2.info()"
      ],
      "id": "amo443L_LwFk",
      "execution_count": 140,
      "outputs": [
        {
          "output_type": "stream",
          "text": [
            "<class 'pandas.core.frame.DataFrame'>\n",
            "RangeIndex: 23 entries, 0 to 22\n",
            "Data columns (total 2 columns):\n",
            " #   Column  Non-Null Count  Dtype  \n",
            "---  ------  --------------  -----  \n",
            " 0   X       23 non-null     float64\n",
            " 1   Y       23 non-null     float64\n",
            "dtypes: float64(2)\n",
            "memory usage: 496.0 bytes\n"
          ],
          "name": "stdout"
        }
      ]
    },
    {
      "cell_type": "code",
      "metadata": {
        "id": "C84iKl5z6H-k"
      },
      "source": [
        "X_train, Y_train = df_data_2.X, df_data_2.Y\n",
        "L3 = LinearRegressionr()"
      ],
      "id": "C84iKl5z6H-k",
      "execution_count": 141,
      "outputs": []
    },
    {
      "cell_type": "code",
      "metadata": {
        "colab": {
          "base_uri": "https://localhost:8080/"
        },
        "id": "cSOzO36LMNCX",
        "outputId": "f4e9ee5f-7cf5-40dd-bba0-24d919e19bfa"
      },
      "source": [
        "W0, W1 = L3.fit(X_train,Y_train)\n",
        "print('Coefficients W0, W1:',W0,W1)"
      ],
      "id": "cSOzO36LMNCX",
      "execution_count": 142,
      "outputs": [
        {
          "output_type": "stream",
          "text": [
            "Coefficients W0, W1: 0.43458449082531736 0.8511440378638502\n"
          ],
          "name": "stdout"
        }
      ]
    },
    {
      "cell_type": "code",
      "metadata": {
        "colab": {
          "base_uri": "https://localhost:8080/"
        },
        "id": "QmzLPjNB6ZRf",
        "outputId": "96ed8558-6c4e-496a-a71b-ea5fb0065e30"
      },
      "source": [
        "L3.rmse(X_train,Y_train)"
      ],
      "id": "QmzLPjNB6ZRf",
      "execution_count": 143,
      "outputs": [
        {
          "output_type": "execute_result",
          "data": {
            "text/plain": [
              "0.10868338378542279"
            ]
          },
          "metadata": {
            "tags": []
          },
          "execution_count": 143
        }
      ]
    },
    {
      "cell_type": "markdown",
      "metadata": {
        "id": "2UTnd_TqXlX6"
      },
      "source": [
        "### Optional"
      ],
      "id": "2UTnd_TqXlX6"
    },
    {
      "cell_type": "markdown",
      "metadata": {
        "id": "wEH3vrQPXoa9"
      },
      "source": [
        "* Use the built-in `sklearn LinearRegression` package to determine the coefficients for the above problems. \n",
        "* Compare the coefficients obtained using OOP based implementation vs coefficients from `sklearn LinearRegression` package."
      ],
      "id": "wEH3vrQPXoa9"
    },
    {
      "cell_type": "code",
      "metadata": {
        "id": "iWjvzyqm6kdX"
      },
      "source": [
        "from sklearn.linear_model import LinearRegression"
      ],
      "id": "iWjvzyqm6kdX",
      "execution_count": 106,
      "outputs": []
    },
    {
      "cell_type": "code",
      "metadata": {
        "id": "W3VNS5Qb6xCw"
      },
      "source": [
        "# Let us use sklearn to determine the coefficients for our first problem - y = 3x + 1\n",
        "SKL1 = LinearRegression()"
      ],
      "id": "W3VNS5Qb6xCw",
      "execution_count": 107,
      "outputs": []
    },
    {
      "cell_type": "code",
      "metadata": {
        "colab": {
          "base_uri": "https://localhost:8080/"
        },
        "id": "HC7AIuxm64cl",
        "outputId": "de372da9-5005-49a5-f494-049037053bdf"
      },
      "source": [
        "# Fit to model\n",
        "SKL1.fit(np.array(x).reshape(-1,1),y)"
      ],
      "id": "HC7AIuxm64cl",
      "execution_count": 108,
      "outputs": [
        {
          "output_type": "execute_result",
          "data": {
            "text/plain": [
              "LinearRegression(copy_X=True, fit_intercept=True, n_jobs=None, normalize=False)"
            ]
          },
          "metadata": {
            "tags": []
          },
          "execution_count": 108
        }
      ]
    },
    {
      "cell_type": "code",
      "metadata": {
        "colab": {
          "base_uri": "https://localhost:8080/"
        },
        "id": "uATqV5OP69e2",
        "outputId": "af47e816-f4dd-430f-f77c-6898d512abb1"
      },
      "source": [
        "# Check the co-efficents from our LinearRegression Class and sklearns\n",
        "\n",
        "print('SKlearn  Linear Regression Co-efficient is : ',SKL1.coef_[0])\n",
        "print('Our LinearRegression Class Co-efficient is : ', b1)"
      ],
      "id": "uATqV5OP69e2",
      "execution_count": 109,
      "outputs": [
        {
          "output_type": "stream",
          "text": [
            "SKlearn  Linear Regression Co-efficient is :  2.9999999999999996\n",
            "Our LinearRegression Class Co-efficient is :  3.061224489795918\n"
          ],
          "name": "stdout"
        }
      ]
    },
    {
      "cell_type": "code",
      "metadata": {
        "colab": {
          "base_uri": "https://localhost:8080/"
        },
        "id": "OFsJVmCB7C0q",
        "outputId": "8cc6c1bf-afc2-4a49-c0cb-49cb053325d3"
      },
      "source": [
        "print('SKlearn  Linear Regression Intercept is : ',SKL1.intercept_)\n",
        "print('Our LinearRegression Class Intercept is : ', b0)\n"
      ],
      "id": "OFsJVmCB7C0q",
      "execution_count": 111,
      "outputs": [
        {
          "output_type": "stream",
          "text": [
            "SKlearn  Linear Regression Intercept is :  1.0000000000000142\n",
            "Our LinearRegression Class Intercept is :  -0.5306122448979522\n"
          ],
          "name": "stdout"
        }
      ]
    },
    {
      "cell_type": "code",
      "metadata": {
        "id": "aFKIowANcpS3"
      },
      "source": [
        ""
      ],
      "id": "aFKIowANcpS3",
      "execution_count": null,
      "outputs": []
    },
    {
      "cell_type": "code",
      "metadata": {
        "id": "HQaHBfpz7Mpz"
      },
      "source": [
        "# Let us compare the results for the price dataset i.e the second problem\n",
        "\n",
        "SKL2 = LinearRegression()\n",
        "SKL3 = LinearRegression()"
      ],
      "id": "HQaHBfpz7Mpz",
      "execution_count": 113,
      "outputs": []
    },
    {
      "cell_type": "code",
      "metadata": {
        "colab": {
          "base_uri": "https://localhost:8080/"
        },
        "id": "75nY0tal7lCR",
        "outputId": "36259454-a285-4142-83d0-4d09f0bee7bf"
      },
      "source": [
        "SKL2.fit(np.array(X).reshape(-1,1),Y)"
      ],
      "id": "75nY0tal7lCR",
      "execution_count": 114,
      "outputs": [
        {
          "output_type": "execute_result",
          "data": {
            "text/plain": [
              "LinearRegression(copy_X=True, fit_intercept=True, n_jobs=None, normalize=False)"
            ]
          },
          "metadata": {
            "tags": []
          },
          "execution_count": 114
        }
      ]
    },
    {
      "cell_type": "code",
      "metadata": {
        "colab": {
          "base_uri": "https://localhost:8080/"
        },
        "id": "4NUyG4WW7neZ",
        "outputId": "d9a5f7cb-bb9f-4cd9-dfd7-b331b3ad4b23"
      },
      "source": [
        "# Check the co-efficents from our LinearRegression Class and sklearns\n",
        "\n",
        "print('SKlearn  Linear Regression Co-efficient is : ',SKL2.coef_[0])\n",
        "print('Our LinearRegression Class Co-efficient is : ', B1)"
      ],
      "id": "4NUyG4WW7neZ",
      "execution_count": 115,
      "outputs": [
        {
          "output_type": "stream",
          "text": [
            "SKlearn  Linear Regression Co-efficient is :  0.3731579359288649\n",
            "Our LinearRegression Class Co-efficient is :  0.37315793592886476\n"
          ],
          "name": "stdout"
        }
      ]
    },
    {
      "cell_type": "code",
      "metadata": {
        "colab": {
          "base_uri": "https://localhost:8080/"
        },
        "id": "Pvku_q3A77bU",
        "outputId": "c3f36bba-da0d-40e8-a327-5dfc872f93f0"
      },
      "source": [
        "print('SKlearn  Linear Regression Intercept is : ', SKL2.intercept_)\n",
        "print('Our LinearRegression Class Intercept is : ', B0)\n"
      ],
      "id": "Pvku_q3A77bU",
      "execution_count": 116,
      "outputs": [
        {
          "output_type": "stream",
          "text": [
            "SKlearn  Linear Regression Intercept is :  867.6042222620559\n",
            "Our LinearRegression Class Intercept is :  867.604222262056\n"
          ],
          "name": "stdout"
        }
      ]
    },
    {
      "cell_type": "code",
      "metadata": {
        "colab": {
          "base_uri": "https://localhost:8080/"
        },
        "id": "0KM2RSGm79cd",
        "outputId": "35c0f8f6-ca13-473e-8b75-e1716ac84070"
      },
      "source": [
        "inp = 1125\n",
        "\n",
        "print('SKlearn  Linear Regression Prediction for input ', inp, 'is : ' ,SKL2.predict(np.array([[inp]])))\n",
        "print('Our LinearRegression Class Prediction for input ', inp,' is : ', L2.predict(inp))\n"
      ],
      "id": "0KM2RSGm79cd",
      "execution_count": 117,
      "outputs": [
        {
          "output_type": "stream",
          "text": [
            "SKlearn  Linear Regression Prediction for input  1125 is :  [1287.40690018]\n",
            "Our LinearRegression Class Prediction for input  1125  is :  1287.406900182029\n"
          ],
          "name": "stdout"
        }
      ]
    },
    {
      "cell_type": "code",
      "metadata": {
        "colab": {
          "base_uri": "https://localhost:8080/"
        },
        "id": "zk27XeiMLiic",
        "outputId": "b95525f9-72fa-46d4-a788-e40c2515c3e6"
      },
      "source": [
        "## PROBLEM 3\n",
        "\n",
        "SKL3.fit(np.array(X_train).reshape(-1,1),Y_train)"
      ],
      "id": "zk27XeiMLiic",
      "execution_count": 118,
      "outputs": [
        {
          "output_type": "execute_result",
          "data": {
            "text/plain": [
              "LinearRegression(copy_X=True, fit_intercept=True, n_jobs=None, normalize=False)"
            ]
          },
          "metadata": {
            "tags": []
          },
          "execution_count": 118
        }
      ]
    },
    {
      "cell_type": "code",
      "metadata": {
        "colab": {
          "base_uri": "https://localhost:8080/"
        },
        "id": "KgJPgKXeLrU5",
        "outputId": "4be2ca2e-dbbb-4cb8-b68a-f0eb106bff9c"
      },
      "source": [
        "# Check the co-efficents from our LinearRegression Class and sklearns\n",
        "\n",
        "print('SKlearn  Linear Regression Co-efficient is : ',SKL3.coef_[0])\n",
        "print('Our LinearRegression Class Co-efficient is : ', W1)"
      ],
      "id": "KgJPgKXeLrU5",
      "execution_count": 119,
      "outputs": [
        {
          "output_type": "stream",
          "text": [
            "SKlearn  Linear Regression Co-efficient is :  0.8511440378638504\n",
            "Our LinearRegression Class Co-efficient is :  0.8511440378638502\n"
          ],
          "name": "stdout"
        }
      ]
    },
    {
      "cell_type": "code",
      "metadata": {
        "colab": {
          "base_uri": "https://localhost:8080/"
        },
        "id": "M3CJbf2aPHSE",
        "outputId": "b9d42359-11e5-4b36-f2ca-d612adf47f6d"
      },
      "source": [
        "print('SKlearn  Linear Regression Intercept is : ', SKL3.intercept_)\n",
        "print('Our LinearRegression Class Intercept is : ', W0)\n"
      ],
      "id": "M3CJbf2aPHSE",
      "execution_count": 120,
      "outputs": [
        {
          "output_type": "stream",
          "text": [
            "SKlearn  Linear Regression Intercept is :  0.4345844908253138\n",
            "Our LinearRegression Class Intercept is :  0.43458449082531736\n"
          ],
          "name": "stdout"
        }
      ]
    },
    {
      "cell_type": "code",
      "metadata": {
        "colab": {
          "base_uri": "https://localhost:8080/"
        },
        "id": "GzhhiH8xPN8l",
        "outputId": "7ab01dd8-d9fa-4557-b6a7-99a11a420bef"
      },
      "source": [
        "inp = 14.5\n",
        "\n",
        "print('SKlearn  Linear Regression Prediction for input ', inp, 'is : ' ,SKL2.predict(np.array([[inp]])))\n",
        "print('Our LinearRegression Class Prediction for input ', inp,' is : ', L2.predict(inp))"
      ],
      "id": "GzhhiH8xPN8l",
      "execution_count": 121,
      "outputs": [
        {
          "output_type": "stream",
          "text": [
            "SKlearn  Linear Regression Prediction for input  14.5 is :  [873.01501233]\n",
            "Our LinearRegression Class Prediction for input  14.5  is :  873.0150123330246\n"
          ],
          "name": "stdout"
        }
      ]
    },
    {
      "cell_type": "markdown",
      "metadata": {
        "id": "uXlWsleuPak0"
      },
      "source": [
        "**+ In this case, the co-efficients calculated in our own class are exactly the same as those calculated by the SKlearn Regressor. Therefore our predictions are also the same. This was possible to do because of the simplicity of the equation taken as input and that the calculation of the co-efficient therefore is relatively simple**"
      ],
      "id": "uXlWsleuPak0"
    },
    {
      "cell_type": "code",
      "metadata": {
        "id": "chDLd3I2PWwH"
      },
      "source": [
        ""
      ],
      "id": "chDLd3I2PWwH",
      "execution_count": null,
      "outputs": []
    }
  ]
}